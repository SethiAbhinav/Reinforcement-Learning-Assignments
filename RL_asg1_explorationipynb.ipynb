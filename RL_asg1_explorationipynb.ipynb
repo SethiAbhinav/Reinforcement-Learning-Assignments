{
  "nbformat": 4,
  "nbformat_minor": 0,
  "metadata": {
    "colab": {
      "name": "RL asg1 explorationipynb",
      "provenance": [],
      "collapsed_sections": [
        "PwAHvvy-znMD"
      ],
      "toc_visible": true
    },
    "kernelspec": {
      "name": "python3",
      "display_name": "Python 3"
    },
    "language_info": {
      "name": "python"
    }
  },
  "cells": [
    {
      "cell_type": "markdown",
      "source": [
        "# Epsilon Greedy"
      ],
      "metadata": {
        "id": "k2c5ly9p0SLc"
      }
    },
    {
      "cell_type": "code",
      "source": [
        "from environment import bandit_env\n",
        "import numpy as np\n",
        "\n",
        "np.random.seed(10)\n",
        "\n",
        "def argmax(reward):\n",
        "    max_reward = reward[0]\n",
        "    ties = [0]\n",
        "\n",
        "    for idx, i in enumerate(reward[1:]):\n",
        "        if i > max_reward:\n",
        "            max_reward = i\n",
        "            ties = [idx+1]\n",
        "        if i == max_reward:\n",
        "            ties.append(idx+1)\n",
        "    \n",
        "    if len(ties) > 1:\n",
        "        index_of_max = np.random.choice(ties)\n",
        "    else:\n",
        "        index_of_max = ties[0]\n",
        "    \n",
        "    return index_of_max\n",
        "\n",
        "# create bandit_env\n",
        "q_mean = [2.5, -3.5, 1.0, 5.0, -2.5] \n",
        "q_stddev = [0.33, 1.0, 0.66, 1.98, 1.65] \n",
        "\n",
        "arm_bandit_env = bandit_env(q_mean, q_stddev)\n",
        "\n",
        "print(\"Number of levers: \",arm_bandit_env.n)\n",
        "print(\"Mean of each lever: \",arm_bandit_env.r_mean)\n",
        "print(\"Standard Deviation of each lever: \",arm_bandit_env.r_stddev)\n",
        "\n",
        "# implement e greedy policy\n",
        "def e_greedy(rewards, e):\n",
        "    # choose random action with probability e\n",
        "    if np.random.rand() < e:\n",
        "        return np.random.randint(0, len(rewards))\n",
        "\n",
        "    # choose greedy action with probability 1-e\n",
        "    else:\n",
        "        return argmax(rewards)\n",
        "\n",
        "average_rewards = np.zeros(6)\n",
        "\n",
        "epsilons = [1/128, 1/64, 1/32, 1/16, 1/8, 1/4]\n",
        "for idx, e in enumerate(epsilons):\n",
        "    actual_reward = 0\n",
        "    actions = [0, 0, 0, 0, 0]\n",
        "    rewards = [0, 0, 0, 0, 0]\n",
        "\n",
        "    for i in range(1000):\n",
        "        action = e_greedy(rewards, e)\n",
        "        reward = arm_bandit_env.pull(action)\n",
        "        actual_reward += reward\n",
        "        \n",
        "        actions[action] += 1\n",
        "\n",
        "        rewards[action] = rewards[action] + (1/(actions[action])) * (reward - rewards[action])\n",
        "    # print(rewards)\n",
        "    average_rewards[idx] = actual_reward/1000\n",
        "print(epsilons)\n",
        "print(average_rewards)"
      ],
      "metadata": {
        "colab": {
          "base_uri": "https://localhost:8080/"
        },
        "id": "TMBsZEM0zmrt",
        "outputId": "07a8e7b8-1ba8-4f49-e903-336cf6338265"
      },
      "execution_count": 180,
      "outputs": [
        {
          "output_type": "stream",
          "name": "stdout",
          "text": [
            "Number of levers:  5\n",
            "Mean of each lever:  [2.5, -3.5, 1.0, 5.0, -2.5]\n",
            "Standard Deviation of each lever:  [0.33, 1.0, 0.66, 1.98, 1.65]\n",
            "[0.0078125, 0.015625, 0.03125, 0.0625, 0.125, 0.25]\n",
            "[4.5033535  4.69147178 4.72226565 4.80731172 4.56047084 3.80043579]\n"
          ]
        }
      ]
    },
    {
      "cell_type": "code",
      "source": [
        "import matplotlib.pyplot as plt\n",
        "# plt.figure(figsize = (20,10))\n",
        "plt.scatter(epsilons ,average_rewards)\n",
        "plt.plot(epsilons, average_rewards)\n",
        "plt.xticks(epsilons)\n",
        "plt.show()"
      ],
      "metadata": {
        "colab": {
          "base_uri": "https://localhost:8080/",
          "height": 265
        },
        "id": "GJxCLKJcz4DZ",
        "outputId": "6c2da0d8-b1ee-4b23-e6c4-684000b69b35"
      },
      "execution_count": 181,
      "outputs": [
        {
          "output_type": "display_data",
          "data": {
            "image/png": "[encoded data removed]",
            "text/plain": [
              "<Figure size 432x288 with 1 Axes>"
            ]
          },
          "metadata": {
            "needs_background": "light"
          }
        }
      ]
    },
    {
      "cell_type": "markdown",
      "source": [
        "# Optimistic Greedy"
      ],
      "metadata": {
        "id": "o-j9AeuG0W-h"
      }
    },
    {
      "cell_type": "code",
      "source": [
        "from environment import bandit_env\n",
        "import numpy as np\n",
        "\n",
        "np.random.seed(10)\n",
        "\n",
        "average_rewards = np.zeros(5)\n",
        "initial_values = [1/4,1/2,1,2,4]\n",
        "avg = [0]*5\n",
        "for idx, val in enumerate(initial_values):\n",
        "    actual_reward = 0\n",
        "    rewards = [val]*5\n",
        "    # print(rewards)\n",
        "    for i in range(1000):   \n",
        "\n",
        "        action = argmax(rewards)\n",
        "        reward = arm_bandit_env.pull(action)\n",
        "        actual_reward += reward\n",
        "\n",
        "        rewards[action] = rewards[action] + (0.1) * (reward - rewards[action])\n",
        "    average_rewards[idx] = actual_reward/1000\n",
        "    # print(rewards)\n",
        "    # print()\n",
        "print(average_rewards)"
      ],
      "metadata": {
        "colab": {
          "base_uri": "https://localhost:8080/"
        },
        "id": "UkhmTn3N0Yqk",
        "outputId": "d743f561-1a02-404a-ded5-21f772e04cfc"
      },
      "execution_count": 182,
      "outputs": [
        {
          "output_type": "stream",
          "name": "stdout",
          "text": [
            "[2.485711   4.89334895 2.4848475  4.87448844 5.08271821]\n"
          ]
        }
      ]
    },
    {
      "cell_type": "code",
      "source": [
        "import matplotlib.pyplot as plt\n",
        "# plt.figure(figsize = (20,10))\n",
        "plt.scatter(initial_values, average_rewards)\n",
        "plt.plot(initial_values, average_rewards)\n",
        "plt.xticks(initial_values)\n",
        "plt.show()"
      ],
      "metadata": {
        "colab": {
          "base_uri": "https://localhost:8080/",
          "height": 265
        },
        "id": "qyvlYfdD441R",
        "outputId": "bf2b39a8-8806-4690-e4d0-7f4d38490f6c"
      },
      "execution_count": 183,
      "outputs": [
        {
          "output_type": "display_data",
          "data": {
            "image/png": "[encoded data removed]",
            "text/plain": [
              "<Figure size 432x288 with 1 Axes>"
            ]
          },
          "metadata": {
            "needs_background": "light"
          }
        }
      ]
    },
    {
      "cell_type": "markdown",
      "source": [
        "# UCB "
      ],
      "metadata": {
        "id": "cZF5RNMrB0KC"
      }
    },
    {
      "cell_type": "code",
      "source": [
        "from environment import bandit_env\n",
        "import numpy as np\n",
        "\n",
        "np.random.seed(10)\n",
        "\n",
        "actions = [0, 0, 0, 0, 0]\n",
        "average_rewards = [0]*6\n",
        "rewards = [0, 0, 0, 0, 0]\n",
        "\n",
        "c = [1/16, 1/4, 1/2, 1, 2, 4]\n",
        "\n",
        "# play each action once\n",
        "for i in range(5):\n",
        "    action = i\n",
        "    reward = arm_bandit_env.pull(action)\n",
        "    actions[action] += 1\n",
        "    rewards[action] = rewards[action] + (1/(actions[action])) * (reward - rewards[action])\n",
        "# print(rewards)\n",
        "\n",
        "for idx, val in enumerate(c):\n",
        "    actual_reward = 0\n",
        "    for i in range(1,1001):   \n",
        "        vals = []\n",
        "        # if i == 0:\n",
        "            # action = argmax(rewards)\n",
        "        # else:\n",
        "        for index in range(len(actions)):\n",
        "            vals.append(rewards[index] + val*np.sqrt((np.log(i))/(actions[index])))\n",
        "        action = argmax(vals)\n",
        "        reward = arm_bandit_env.pull(action)\n",
        "        actual_reward += reward\n",
        "        actions[action] += 1\n",
        "        rewards[action] = rewards[action] + (1/(actions[action])) * (reward - rewards[action])\n",
        "    average_rewards[idx] = actual_reward/1000\n",
        "print(average_rewards)"
      ],
      "metadata": {
        "colab": {
          "base_uri": "https://localhost:8080/"
        },
        "id": "AAPPY6nWB1dF",
        "outputId": "a598d691-2b3f-44e3-c893-f1404d873325"
      },
      "execution_count": 206,
      "outputs": [
        {
          "output_type": "stream",
          "name": "stdout",
          "text": [
            "[4.976869767447163, 5.023445110608497, 4.894246442145552, 4.956364967996154, 5.027212810860878, 4.98309757077188]\n"
          ]
        }
      ]
    },
    {
      "cell_type": "code",
      "source": [
        "import matplotlib.pyplot as plt\n",
        "# plt.figure(figsize = (20,10))\n",
        "plt.scatter(c, average_rewards)\n",
        "plt.plot(c, average_rewards)\n",
        "plt.xticks(c)\n",
        "plt.show()"
      ],
      "metadata": {
        "colab": {
          "base_uri": "https://localhost:8080/",
          "height": 265
        },
        "id": "62bWVW87GBsU",
        "outputId": "639d9467-dd67-42a8-e7d3-5f7d12a9515f"
      },
      "execution_count": 207,
      "outputs": [
        {
          "output_type": "display_data",
          "data": {
            "image/png": "[encoded data removed]",
            "text/plain": [
              "<Figure size 432x288 with 1 Axes>"
            ]
          },
          "metadata": {
            "needs_background": "light"
          }
        }
      ]
    },
    {
      "cell_type": "markdown",
      "source": [
        "# Gradient Bandit"
      ],
      "metadata": {
        "id": "dP_T5gOwKP8_"
      }
    },
    {
      "cell_type": "code",
      "source": [
        ""
      ],
      "metadata": {
        "id": "fmtmesWJKn_u"
      },
      "execution_count": null,
      "outputs": []
    },
    {
      "cell_type": "markdown",
      "source": [
        "# Useless"
      ],
      "metadata": {
        "id": "PwAHvvy-znMD"
      }
    },
    {
      "cell_type": "code",
      "source": [
        "import numpy as np"
      ],
      "metadata": {
        "id": "oaZsZsgS1FJ6"
      },
      "execution_count": 1,
      "outputs": []
    },
    {
      "cell_type": "markdown",
      "source": [
        "## Initialization"
      ],
      "metadata": {
        "id": "GTfMQJz9yni0"
      }
    },
    {
      "cell_type": "code",
      "execution_count": 2,
      "metadata": {
        "id": "Y5ZF5DaXxmoC"
      },
      "outputs": [],
      "source": [
        "# 5 bandits\n",
        "q = [2.5, -3.5, 1.0, 5.0, -2.5] # actual mean of distribution\n",
        "std = [0.33, 1.0, 0.66, 1.98, 1.65] # actual standard deviation of distribution"
      ]
    },
    {
      "cell_type": "markdown",
      "source": [
        "## Setting up the enviroment"
      ],
      "metadata": {
        "id": "SVo1IV5eykub"
      }
    },
    {
      "cell_type": "code",
      "source": [
        "from environment import bandit_env # upload environment.py"
      ],
      "metadata": {
        "id": "4qv1FZRNyF0V"
      },
      "execution_count": 3,
      "outputs": []
    },
    {
      "cell_type": "code",
      "source": [
        "bandits = bandit_env(q, std)"
      ],
      "metadata": {
        "id": "-HCcfX_2yNah"
      },
      "execution_count": 4,
      "outputs": []
    },
    {
      "cell_type": "code",
      "source": [
        "bandits.r_mean"
      ],
      "metadata": {
        "colab": {
          "base_uri": "https://localhost:8080/"
        },
        "id": "vEq1zFA9yRuJ",
        "outputId": "c80c86d4-b036-4e38-d00c-3a4044a5d8f6"
      },
      "execution_count": 5,
      "outputs": [
        {
          "output_type": "execute_result",
          "data": {
            "text/plain": [
              "[2.5, -3.5, 1.0, 5.0, -2.5]"
            ]
          },
          "metadata": {},
          "execution_count": 5
        }
      ]
    },
    {
      "cell_type": "code",
      "source": [
        "bandits.r_stddev"
      ],
      "metadata": {
        "colab": {
          "base_uri": "https://localhost:8080/"
        },
        "id": "kAhm5bKFyUu4",
        "outputId": "2faec1ef-5f59-4a92-d54e-cb6b4d29ef0c"
      },
      "execution_count": 6,
      "outputs": [
        {
          "output_type": "execute_result",
          "data": {
            "text/plain": [
              "[0.33, 1.0, 0.66, 1.98, 1.65]"
            ]
          },
          "metadata": {},
          "execution_count": 6
        }
      ]
    },
    {
      "cell_type": "code",
      "source": [
        "bandits.n"
      ],
      "metadata": {
        "colab": {
          "base_uri": "https://localhost:8080/"
        },
        "id": "7ptrk0yXygbP",
        "outputId": "2d89bf17-3252-42aa-b872-ba078648b686"
      },
      "execution_count": 7,
      "outputs": [
        {
          "output_type": "execute_result",
          "data": {
            "text/plain": [
              "5"
            ]
          },
          "metadata": {},
          "execution_count": 7
        }
      ]
    },
    {
      "cell_type": "code",
      "source": [
        "def argmax(reward):\n",
        "    max_reward = reward[0]\n",
        "    ties = [0]\n",
        "\n",
        "    for idx, i in enumerate(reward[1:]):\n",
        "        if i > max_reward:\n",
        "            max_reward = i\n",
        "            ties = [idx+1]\n",
        "        if i == max_reward:\n",
        "            ties.append(idx+1)\n",
        "    \n",
        "    if len(ties) > 1:\n",
        "        index_of_max = np.random.choice(ties)\n",
        "    else:\n",
        "        index_of_max = ties[0]\n",
        "    \n",
        "    return index_of_max\n"
      ],
      "metadata": {
        "id": "gW-cmbVn2Cyj"
      },
      "execution_count": 8,
      "outputs": []
    },
    {
      "cell_type": "code",
      "source": [
        "cnts = [0]*5\n",
        "rewards = [0, 0, 0, 0, 0]\n",
        "for i in range(1000):\n",
        "    cnts[argmax(rewards)] += 1\n",
        "cnts"
      ],
      "metadata": {
        "colab": {
          "base_uri": "https://localhost:8080/"
        },
        "id": "iWKoSXFm24b8",
        "outputId": "c4f166e8-b3d3-473f-df51-1d4b3bf685de"
      },
      "execution_count": 9,
      "outputs": [
        {
          "output_type": "execute_result",
          "data": {
            "text/plain": [
              "[201, 192, 212, 189, 206]"
            ]
          },
          "metadata": {},
          "execution_count": 9
        }
      ]
    },
    {
      "cell_type": "markdown",
      "source": [
        "## Epsilon greedy"
      ],
      "metadata": {
        "id": "371wopHUypxy"
      }
    },
    {
      "cell_type": "code",
      "source": [
        "def epsilon_greedy(rewards, epsilon):\n",
        "    if np.random.rand() < epsilon:\n",
        "        return np.random.choice(5)\n",
        "    else:\n",
        "        return argmax(rewards)"
      ],
      "metadata": {
        "id": "KPxk0PypyisO"
      },
      "execution_count": 10,
      "outputs": []
    },
    {
      "cell_type": "code",
      "source": [
        "np.array([1,1,1,1]) + [1.2,2,3,4]"
      ],
      "metadata": {
        "colab": {
          "base_uri": "https://localhost:8080/"
        },
        "id": "mr-CtOAirU5i",
        "outputId": "df1e0641-f1f7-4924-b5ad-d4955fa87787"
      },
      "execution_count": 24,
      "outputs": [
        {
          "output_type": "execute_result",
          "data": {
            "text/plain": [
              "array([2.2, 3. , 4. , 5. ])"
            ]
          },
          "metadata": {},
          "execution_count": 24
        }
      ]
    },
    {
      "cell_type": "code",
      "source": [
        ""
      ],
      "metadata": {
        "id": "vuY8R6rytUEv"
      },
      "execution_count": null,
      "outputs": []
    },
    {
      "cell_type": "code",
      "source": [
        "from tqdm import tqdm\n",
        "\n",
        "actual_average_reward = np.array([0.0, 0.0, 0.0, 0.0, 0.0, 0.0])\n",
        "\n",
        "\n",
        "for i in tqdm(range(100)):\n",
        "    epsilons = [1/128, 1/64, 1/32, 1/16, 1/8, 1/4]\n",
        "    avg_reward = []\n",
        "\n",
        "    for e in epsilons:  \n",
        "        rewards = np.zeros(5)\n",
        "        actions = np.zeros(5)\n",
        "        for i in range(1000):\n",
        "            action = epsilon_greedy(rewards, e)\n",
        "            rewards[action] += bandits.pull(action)\n",
        "            actions[action] += 1\n",
        "            rewards[action] /= actions[action]\n",
        "        # rewards = rewards/1000\n",
        "        # print(np.sum(rewards))\n",
        "\n",
        "        avg_reward.append(np.sum(rewards)/len(rewards))\n",
        "        # print(avg_reward)\n",
        "    actual_average_reward += avg_reward\n",
        "actual_average_reward /= 100"
      ],
      "metadata": {
        "id": "6I2p9stg1Em5",
        "colab": {
          "base_uri": "https://localhost:8080/"
        },
        "outputId": "e8730203-46ca-48eb-8e48-7b976e74a4f9"
      },
      "execution_count": 32,
      "outputs": [
        {
          "output_type": "stream",
          "name": "stderr",
          "text": [
            "100%|██████████| 100/100 [00:08<00:00, 11.31it/s]\n"
          ]
        }
      ]
    },
    {
      "cell_type": "markdown",
      "source": [
        "## Plotting"
      ],
      "metadata": {
        "id": "KqXUP_sPz0_J"
      }
    },
    {
      "cell_type": "code",
      "source": [
        "import matplotlib.pyplot as plt\n",
        "# plt.scatter(epsilons ,avg_reward)\n",
        "plt.plot(epsilons, actual_average_reward)\n",
        "plt.xticks(epsilons)\n",
        "plt.show()\n",
        "avg_reward"
      ],
      "metadata": {
        "colab": {
          "base_uri": "https://localhost:8080/",
          "height": 372
        },
        "id": "0H3DqozX4xll",
        "outputId": "2a3794ac-ea55-4e4f-d710-19be8510842b"
      },
      "execution_count": 33,
      "outputs": [
        {
          "output_type": "display_data",
          "data": {
            "image/png": "[encoded data removed]",
            "text/plain": [
              "<Figure size 432x288 with 1 Axes>"
            ]
          },
          "metadata": {
            "needs_background": "light"
          }
        },
        {
          "output_type": "execute_result",
          "data": {
            "text/plain": [
              "[0.20177094525372605,\n",
              " 0.990694302606937,\n",
              " 0.9564305665688322,\n",
              " 0.202246064031926,\n",
              " 0.1996880189218282,\n",
              " 0.7704684879550702]"
            ]
          },
          "metadata": {},
          "execution_count": 33
        }
      ]
    },
    {
      "cell_type": "code",
      "source": [
        ""
      ],
      "metadata": {
        "id": "RL0s4Srh4x68"
      },
      "execution_count": null,
      "outputs": []
    }
  ]
}
