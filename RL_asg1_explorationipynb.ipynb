{
  "nbformat": 4,
  "nbformat_minor": 0,
  "metadata": {
    "colab": {
      "name": "RL asg1 explorationipynb",
      "provenance": []
    },
    "kernelspec": {
      "name": "python3",
      "display_name": "Python 3"
    },
    "language_info": {
      "name": "python"
    }
  },
  "cells": [
    {
      "cell_type": "code",
      "source": [
        "import numpy as np"
      ],
      "metadata": {
        "id": "oaZsZsgS1FJ6"
      },
      "execution_count": 1,
      "outputs": []
    },
    {
      "cell_type": "markdown",
      "source": [
        "# Initialization"
      ],
      "metadata": {
        "id": "GTfMQJz9yni0"
      }
    },
    {
      "cell_type": "code",
      "execution_count": 2,
      "metadata": {
        "id": "Y5ZF5DaXxmoC"
      },
      "outputs": [],
      "source": [
        "# 5 bandits\n",
        "q = [2.5, -3.5, 1.0, 5.0, -2.5] # actual mean of distribution\n",
        "std = [0.33, 1.0, 0.66, 1.98, 1.65] # actual standard deviation of distribution"
      ]
    },
    {
      "cell_type": "markdown",
      "source": [
        "# Setting up the enviroment"
      ],
      "metadata": {
        "id": "SVo1IV5eykub"
      }
    },
    {
      "cell_type": "code",
      "source": [
        "from environment import bandit_env # upload environment.py"
      ],
      "metadata": {
        "id": "4qv1FZRNyF0V"
      },
      "execution_count": 3,
      "outputs": []
    },
    {
      "cell_type": "code",
      "source": [
        "bandits = bandit_env(q, std)"
      ],
      "metadata": {
        "id": "-HCcfX_2yNah"
      },
      "execution_count": 4,
      "outputs": []
    },
    {
      "cell_type": "code",
      "source": [
        "bandits.r_mean"
      ],
      "metadata": {
        "colab": {
          "base_uri": "https://localhost:8080/"
        },
        "id": "vEq1zFA9yRuJ",
        "outputId": "c80c86d4-b036-4e38-d00c-3a4044a5d8f6"
      },
      "execution_count": 5,
      "outputs": [
        {
          "output_type": "execute_result",
          "data": {
            "text/plain": [
              "[2.5, -3.5, 1.0, 5.0, -2.5]"
            ]
          },
          "metadata": {},
          "execution_count": 5
        }
      ]
    },
    {
      "cell_type": "code",
      "source": [
        "bandits.r_stddev"
      ],
      "metadata": {
        "colab": {
          "base_uri": "https://localhost:8080/"
        },
        "id": "kAhm5bKFyUu4",
        "outputId": "2faec1ef-5f59-4a92-d54e-cb6b4d29ef0c"
      },
      "execution_count": 6,
      "outputs": [
        {
          "output_type": "execute_result",
          "data": {
            "text/plain": [
              "[0.33, 1.0, 0.66, 1.98, 1.65]"
            ]
          },
          "metadata": {},
          "execution_count": 6
        }
      ]
    },
    {
      "cell_type": "code",
      "source": [
        "bandits.n"
      ],
      "metadata": {
        "colab": {
          "base_uri": "https://localhost:8080/"
        },
        "id": "7ptrk0yXygbP",
        "outputId": "2d89bf17-3252-42aa-b872-ba078648b686"
      },
      "execution_count": 7,
      "outputs": [
        {
          "output_type": "execute_result",
          "data": {
            "text/plain": [
              "5"
            ]
          },
          "metadata": {},
          "execution_count": 7
        }
      ]
    },
    {
      "cell_type": "code",
      "source": [
        "def argmax(reward):\n",
        "    max_reward = reward[0]\n",
        "    ties = [0]\n",
        "\n",
        "    for idx, i in enumerate(reward[1:]):\n",
        "        if i > max_reward:\n",
        "            max_reward = i\n",
        "            ties = [idx+1]\n",
        "        if i == max_reward:\n",
        "            ties.append(idx+1)\n",
        "    \n",
        "    if len(ties) > 1:\n",
        "        index_of_max = np.random.choice(ties)\n",
        "    else:\n",
        "        index_of_max = ties[0]\n",
        "    \n",
        "    return index_of_max\n"
      ],
      "metadata": {
        "id": "gW-cmbVn2Cyj"
      },
      "execution_count": 8,
      "outputs": []
    },
    {
      "cell_type": "code",
      "source": [
        "cnts = [0]*5\n",
        "rewards = [0, 0, 0, 0, 0]\n",
        "for i in range(1000):\n",
        "    cnts[argmax(rewards)] += 1\n",
        "cnts"
      ],
      "metadata": {
        "colab": {
          "base_uri": "https://localhost:8080/"
        },
        "id": "iWKoSXFm24b8",
        "outputId": "c4f166e8-b3d3-473f-df51-1d4b3bf685de"
      },
      "execution_count": 9,
      "outputs": [
        {
          "output_type": "execute_result",
          "data": {
            "text/plain": [
              "[201, 192, 212, 189, 206]"
            ]
          },
          "metadata": {},
          "execution_count": 9
        }
      ]
    },
    {
      "cell_type": "markdown",
      "source": [
        "# Epsilon greedy"
      ],
      "metadata": {
        "id": "371wopHUypxy"
      }
    },
    {
      "cell_type": "code",
      "source": [
        "def epsilon_greedy(rewards, epsilon):\n",
        "    if np.random.rand() < epsilon:\n",
        "        return np.random.choice(5)\n",
        "    else:\n",
        "        return argmax(rewards)"
      ],
      "metadata": {
        "id": "KPxk0PypyisO"
      },
      "execution_count": 10,
      "outputs": []
    },
    {
      "cell_type": "code",
      "source": [
        "rewards = np.zeros(5)\n",
        "epsilons = np.array([1/128, 1/64, 1/32, 1/16, 1/8, 1/4])\n",
        "avg_reward = []\n",
        "\n",
        "for e in epsilons:  \n",
        "    rewards = np.zeros(5)\n",
        "\n",
        "    for i in range(1000):\n",
        "        action = epsilon_greedy(rewards, e)\n",
        "        rewards[action] += bandits.pull(action)\n",
        "    rewards = rewards/1000\n",
        "    # print(np.sum(rewards))\n",
        "\n",
        "    avg_reward.append(np.sum(rewards)/len(rewards))\n",
        "    # print(avg_reward)"
      ],
      "metadata": {
        "id": "6I2p9stg1Em5"
      },
      "execution_count": 11,
      "outputs": []
    },
    {
      "cell_type": "code",
      "source": [
        "import matplotlib.pyplot as plt\n",
        "plt.scatter(epsilons ,avg_reward)\n",
        "plt.plot(epsilons, avg_reward)\n",
        "plt.show()\n",
        "avg_reward"
      ],
      "metadata": {
        "colab": {
          "base_uri": "https://localhost:8080/",
          "height": 372
        },
        "id": "0H3DqozX4xll",
        "outputId": "ffe582a0-6b9a-443f-8965-7aee15eddf28"
      },
      "execution_count": 12,
      "outputs": [
        {
          "output_type": "display_data",
          "data": {
            "image/png": "[encoded data removed]",
            "text/plain": [
              "<Figure size 432x288 with 1 Axes>"
            ]
          },
          "metadata": {
            "needs_background": "light"
          }
        },
        {
          "output_type": "execute_result",
          "data": {
            "text/plain": [
              "[0.19690650363393888,\n",
              " 0.965920161411872,\n",
              " 0.4876150414231296,\n",
              " 0.19284076775127518,\n",
              " 0.8722784660663274,\n",
              " 0.8281561748304178]"
            ]
          },
          "metadata": {},
          "execution_count": 12
        }
      ]
    },
    {
      "cell_type": "code",
      "source": [
        ""
      ],
      "metadata": {
        "id": "RL0s4Srh4x68"
      },
      "execution_count": null,
      "outputs": []
    }
  ]
}