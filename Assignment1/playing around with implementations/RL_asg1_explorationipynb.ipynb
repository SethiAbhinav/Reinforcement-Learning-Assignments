{
  "nbformat": 4,
  "nbformat_minor": 0,
  "metadata": {
    "colab": {
      "name": "RL asg1 explorationipynb",
      "provenance": [],
      "collapsed_sections": [
        "PwAHvvy-znMD"
      ],
      "toc_visible": true
    },
    "kernelspec": {
      "name": "python3",
      "display_name": "Python 3"
    },
    "language_info": {
      "name": "python"
    }
  },
  "cells": [
    {
      "cell_type": "markdown",
      "source": [
        "# Epsilon Greedy"
      ],
      "metadata": {
        "id": "k2c5ly9p0SLc"
      }
    },
    {
      "cell_type": "code",
      "source": [
        "from environment import bandit_env\n",
        "import numpy as np\n",
        "\n",
        "np.random.seed(10)\n",
        "\n",
        "def argmax(reward):\n",
        "    max_reward = reward[0]\n",
        "    ties = [0]\n",
        "\n",
        "    for idx, i in enumerate(reward[1:]):\n",
        "        if i > max_reward:\n",
        "            max_reward = i\n",
        "            ties = [idx+1]\n",
        "        if i == max_reward:\n",
        "            ties.append(idx+1)\n",
        "    \n",
        "    if len(ties) > 1:\n",
        "        index_of_max = np.random.choice(ties)\n",
        "    else:\n",
        "        index_of_max = ties[0]\n",
        "    \n",
        "    return index_of_max\n",
        "\n",
        "# create bandit_env\n",
        "q_mean = [2.5, -3.5, 1.0, 5.0, -2.5] \n",
        "q_stddev = [0.33, 1.0, 0.66, 1.98, 1.65] \n",
        "\n",
        "arm_bandit_env = bandit_env(q_mean, q_stddev)\n",
        "\n",
        "print(\"Number of levers: \",arm_bandit_env.n)\n",
        "print(\"Mean of each lever: \",arm_bandit_env.r_mean)\n",
        "print(\"Standard Deviation of each lever: \",arm_bandit_env.r_stddev)\n",
        "\n",
        "# implement e greedy policy\n",
        "def e_greedy(rewards, e):\n",
        "    # choose random action with probability e\n",
        "    if np.random.rand() < e:\n",
        "        return np.random.randint(0, len(rewards))\n",
        "\n",
        "    # choose greedy action with probability 1-e\n",
        "    else:\n",
        "        return argmax(rewards)\n",
        "\n",
        "average_rewards = np.zeros(6)\n",
        "\n",
        "cumulative_rewards = [[], [], [], [], [], []]\n",
        "\n",
        "epsilons = [1/128, 1/64, 1/32, 1/16, 1/8, 1/4]\n",
        "for idx, e in enumerate(epsilons):\n",
        "    actual_reward = 0\n",
        "    actions = [0, 0, 0, 0, 0]\n",
        "    rewards = [0, 0, 0, 0, 0]\n",
        "\n",
        "    for i in range(1000):\n",
        "        action = e_greedy(rewards, e)\n",
        "        reward = arm_bandit_env.pull(action)\n",
        "        actual_reward += reward\n",
        "        \n",
        "        actions[action] += 1\n",
        "\n",
        "        rewards[action] = rewards[action] + (1/(actions[action])) * (reward - rewards[action])\n",
        "        cumulative_rewards[idx].append(actual_reward/(i+1))\n",
        "    # print(rewards)\n",
        "    average_rewards[idx] = actual_reward/1000\n",
        "print(epsilons)\n",
        "print(average_rewards)"
      ],
      "metadata": {
        "colab": {
          "base_uri": "https://localhost:8080/"
        },
        "id": "TMBsZEM0zmrt",
        "outputId": "57b0bc68-9c59-458c-a043-ed8938789ff8"
      },
      "execution_count": 35,
      "outputs": [
        {
          "output_type": "stream",
          "name": "stdout",
          "text": [
            "Number of levers:  5\n",
            "Mean of each lever:  [2.5, -3.5, 1.0, 5.0, -2.5]\n",
            "Standard Deviation of each lever:  [0.33, 1.0, 0.66, 1.98, 1.65]\n",
            "[0.0078125, 0.015625, 0.03125, 0.0625, 0.125, 0.25]\n",
            "[4.5033535  4.69147178 4.72226565 4.80731172 4.56047084 3.80043579]\n"
          ]
        }
      ]
    },
    {
      "cell_type": "code",
      "source": [
        "print(rewards)"
      ],
      "metadata": {
        "colab": {
          "base_uri": "https://localhost:8080/"
        },
        "id": "H1WCgiYSRVeL",
        "outputId": "354671ca-7bce-447c-cb29-b08f0107c56f"
      },
      "execution_count": 36,
      "outputs": [
        {
          "output_type": "stream",
          "name": "stdout",
          "text": [
            "[2.483230615394033, -3.5891332478440554, 1.0692821953389302, 4.984502591930207, -2.117133889337802]\n"
          ]
        }
      ]
    },
    {
      "cell_type": "code",
      "source": [
        "import matplotlib.pyplot as plt\n",
        "# plt.figure(figsize = (20,10))\n",
        "plt.scatter(epsilons ,average_rewards)\n",
        "plt.plot(epsilons, average_rewards)\n",
        "plt.xticks(epsilons)\n",
        "plt.show()"
      ],
      "metadata": {
        "colab": {
          "base_uri": "https://localhost:8080/",
          "height": 265
        },
        "id": "GJxCLKJcz4DZ",
        "outputId": "ec29b641-51a8-4481-d14e-613b32a0f4e6"
      },
      "execution_count": 37,
      "outputs": [
        {
          "output_type": "display_data",
          "data": {
            "image/png": "[encoded data removed]",
            "text/plain": [
              "<Figure size 432x288 with 1 Axes>"
            ]
          },
          "metadata": {
            "needs_background": "light"
          }
        }
      ]
    },
    {
      "cell_type": "code",
      "source": [
        "for i in range(6):\n",
        "    plt.plot(range(1,1001), cumulative_rewards[i])\n",
        "plt.legend(['1/128', '1/64', '1/32', '1/16', '1/8', '1/4'])\n",
        "plt.show()"
      ],
      "metadata": {
        "colab": {
          "base_uri": "https://localhost:8080/",
          "height": 265
        },
        "id": "mT-qnPKjqw4c",
        "outputId": "4d729eaf-0204-4a52-8e0c-733f7604cd40"
      },
      "execution_count": 38,
      "outputs": [
        {
          "output_type": "display_data",
          "data": {
            "image/png": "[encoded data removed]",
            "text/plain": [
              "<Figure size 432x288 with 1 Axes>"
            ]
          },
          "metadata": {
            "needs_background": "light"
          }
        }
      ]
    },
    {
      "cell_type": "markdown",
      "source": [
        "# Optimistic Greedy"
      ],
      "metadata": {
        "id": "o-j9AeuG0W-h"
      }
    },
    {
      "cell_type": "code",
      "source": [
        "from environment import bandit_env\n",
        "import numpy as np\n",
        "\n",
        "# np.random.seed(10)\n",
        "\n",
        "average_rewards = np.zeros(5)\n",
        "initial_values = [1/4,1/2,1,2,4]\n",
        "avg = [0]*5\n",
        "cumulative_rewards = [[], [], [], [], []]\n",
        "for idx, val in enumerate(initial_values):\n",
        "    actual_reward = 0\n",
        "    rewards = [val]*5\n",
        "    # print(rewards)\n",
        "    for i in range(1000):   \n",
        "\n",
        "        action = argmax(rewards)\n",
        "        reward = arm_bandit_env.pull(action)\n",
        "        actual_reward += reward\n",
        "\n",
        "        rewards[action] = rewards[action] + (0.1) * (reward - rewards[action])\n",
        "        cumulative_rewards[idx].append(actual_reward/(i+1))\n",
        "    average_rewards[idx] = actual_reward/1000\n",
        "    # print(rewards)\n",
        "    # print()\n",
        "print(average_rewards)"
      ],
      "metadata": {
        "colab": {
          "base_uri": "https://localhost:8080/"
        },
        "id": "UkhmTn3N0Yqk",
        "outputId": "a6c7dbbe-bc14-46ec-eca0-c80e16e4cd44"
      },
      "execution_count": 56,
      "outputs": [
        {
          "output_type": "stream",
          "name": "stdout",
          "text": [
            "[1.04032172 2.49119523 2.48688756 2.49044158 5.05949665]\n"
          ]
        }
      ]
    },
    {
      "cell_type": "code",
      "source": [
        "import matplotlib.pyplot as plt\n",
        "# plt.figure(figsize = (20,10))\n",
        "plt.scatter(initial_values, average_rewards)\n",
        "plt.plot(initial_values, average_rewards)\n",
        "plt.xticks(initial_values)\n",
        "plt.show()"
      ],
      "metadata": {
        "colab": {
          "base_uri": "https://localhost:8080/",
          "height": 265
        },
        "id": "qyvlYfdD441R",
        "outputId": "5e88e815-9bda-44e7-a1cf-983b65ae2d89"
      },
      "execution_count": 57,
      "outputs": [
        {
          "output_type": "display_data",
          "data": {
            "image/png": "[encoded data removed]",
            "text/plain": [
              "<Figure size 432x288 with 1 Axes>"
            ]
          },
          "metadata": {
            "needs_background": "light"
          }
        }
      ]
    },
    {
      "cell_type": "code",
      "source": [
        "for i in range(5):\n",
        "    plt.plot(range(1,1001), cumulative_rewards[i])\n",
        "plt.legend(['1/4','1/2','1','2','4'])\n",
        "plt.show()"
      ],
      "metadata": {
        "colab": {
          "base_uri": "https://localhost:8080/",
          "height": 265
        },
        "id": "_6vFUqkFtTP3",
        "outputId": "7960aa1b-f044-4443-808a-5b7f821e0857"
      },
      "execution_count": 58,
      "outputs": [
        {
          "output_type": "display_data",
          "data": {
            "image/png": "[encoded data removed]",
            "text/plain": [
              "<Figure size 432x288 with 1 Axes>"
            ]
          },
          "metadata": {
            "needs_background": "light"
          }
        }
      ]
    },
    {
      "cell_type": "markdown",
      "source": [
        "# UCB "
      ],
      "metadata": {
        "id": "cZF5RNMrB0KC"
      }
    },
    {
      "cell_type": "code",
      "source": [
        "from environment import bandit_env\n",
        "import numpy as np\n",
        "\n",
        "# np.random.seed(10)\n",
        "\n",
        "actions = [0, 0, 0, 0, 0]\n",
        "average_rewards = [0]*6\n",
        "rewards = [0, 0, 0, 0, 0]\n",
        "\n",
        "c = [1/16, 1/4, 1/2, 1, 2, 4]\n",
        "\n",
        "# play each action once\n",
        "for i in range(5):\n",
        "    action = i\n",
        "    reward = arm_bandit_env.pull(action)\n",
        "    actions[action] += 1\n",
        "    rewards[action] = rewards[action] + (1/(actions[action])) * (reward - rewards[action])\n",
        "\n",
        "# print(rewards)\n",
        "cumulative_rewards = [[], [], [], [], [], []]\n",
        "for idx, val in enumerate(c):\n",
        "    actual_reward = 0\n",
        "    for i in range(1,1001):   \n",
        "        vals = []\n",
        "        # if i == 0:\n",
        "            # action = argmax(rewards)\n",
        "        # else:\n",
        "        for index in range(len(actions)):\n",
        "            vals.append(rewards[index] + val*np.sqrt((np.log(i))/(actions[index])))\n",
        "        action = argmax(vals)\n",
        "        reward = arm_bandit_env.pull(action)\n",
        "        actual_reward += reward\n",
        "        actions[action] += 1\n",
        "        rewards[action] = rewards[action] + (1/(actions[action])) * (reward - rewards[action])\n",
        "        cumulative_rewards[idx].append(actual_reward/(i+1))\n",
        "\n",
        "    average_rewards[idx] = actual_reward/1000\n",
        "print(average_rewards)"
      ],
      "metadata": {
        "colab": {
          "base_uri": "https://localhost:8080/"
        },
        "id": "AAPPY6nWB1dF",
        "outputId": "51f50ce1-6c7c-452e-b14f-94c7aa88509b"
      },
      "execution_count": 138,
      "outputs": [
        {
          "output_type": "stream",
          "name": "stdout",
          "text": [
            "[5.038310101684617, 4.94796553181274, 5.035537632282915, 5.012792355615512, 5.052077270583287, 4.9947462578957165]\n"
          ]
        }
      ]
    },
    {
      "cell_type": "code",
      "source": [
        "import matplotlib.pyplot as plt\n",
        "# plt.figure(figsize = (20,10))\n",
        "plt.scatter(c, average_rewards)\n",
        "plt.plot(c, average_rewards)\n",
        "plt.xticks(c)\n",
        "plt.show()"
      ],
      "metadata": {
        "colab": {
          "base_uri": "https://localhost:8080/",
          "height": 265
        },
        "id": "62bWVW87GBsU",
        "outputId": "3f781dd0-8fae-4836-e1b7-f4e0892a8089"
      },
      "execution_count": 139,
      "outputs": [
        {
          "output_type": "display_data",
          "data": {
            "image/png": "[encoded data removed]",
            "text/plain": [
              "<Figure size 432x288 with 1 Axes>"
            ]
          },
          "metadata": {
            "needs_background": "light"
          }
        }
      ]
    },
    {
      "cell_type": "code",
      "source": [
        "for i in range(6):\n",
        "    plt.plot(range(1,1001), cumulative_rewards[i])\n",
        "plt.legend(['1/16', '1/4','1/2','1','2','4'])\n",
        "plt.show()"
      ],
      "metadata": {
        "colab": {
          "base_uri": "https://localhost:8080/",
          "height": 265
        },
        "outputId": "2612043c-4934-4db5-b22d-0291bc445421",
        "id": "jvI1r2gquBiI"
      },
      "execution_count": 140,
      "outputs": [
        {
          "output_type": "display_data",
          "data": {
            "image/png": "[encoded data removed]",
            "text/plain": [
              "<Figure size 432x288 with 1 Axes>"
            ]
          },
          "metadata": {
            "needs_background": "light"
          }
        }
      ]
    },
    {
      "cell_type": "markdown",
      "source": [
        "# Gradient Bandit"
      ],
      "metadata": {
        "id": "dP_T5gOwKP8_"
      }
    },
    {
      "cell_type": "code",
      "source": [
        ""
      ],
      "metadata": {
        "id": "fmtmesWJKn_u"
      },
      "execution_count": null,
      "outputs": []
    },
    {
      "cell_type": "markdown",
      "source": [
        "# Useless"
      ],
      "metadata": {
        "id": "PwAHvvy-znMD"
      }
    },
    {
      "cell_type": "code",
      "source": [
        "import numpy as np"
      ],
      "metadata": {
        "id": "oaZsZsgS1FJ6"
      },
      "execution_count": null,
      "outputs": []
    },
    {
      "cell_type": "markdown",
      "source": [
        "## Initialization"
      ],
      "metadata": {
        "id": "GTfMQJz9yni0"
      }
    },
    {
      "cell_type": "code",
      "execution_count": null,
      "metadata": {
        "id": "Y5ZF5DaXxmoC"
      },
      "outputs": [],
      "source": [
        "# 5 bandits\n",
        "q = [2.5, -3.5, 1.0, 5.0, -2.5] # actual mean of distribution\n",
        "std = [0.33, 1.0, 0.66, 1.98, 1.65] # actual standard deviation of distribution"
      ]
    },
    {
      "cell_type": "markdown",
      "source": [
        "## Setting up the enviroment"
      ],
      "metadata": {
        "id": "SVo1IV5eykub"
      }
    },
    {
      "cell_type": "code",
      "source": [
        "from environment import bandit_env # upload environment.py"
      ],
      "metadata": {
        "id": "4qv1FZRNyF0V"
      },
      "execution_count": null,
      "outputs": []
    },
    {
      "cell_type": "code",
      "source": [
        "bandits = bandit_env(q, std)"
      ],
      "metadata": {
        "id": "-HCcfX_2yNah"
      },
      "execution_count": null,
      "outputs": []
    },
    {
      "cell_type": "code",
      "source": [
        "bandits.r_mean"
      ],
      "metadata": {
        "colab": {
          "base_uri": "https://localhost:8080/"
        },
        "id": "vEq1zFA9yRuJ",
        "outputId": "c80c86d4-b036-4e38-d00c-3a4044a5d8f6"
      },
      "execution_count": null,
      "outputs": [
        {
          "output_type": "execute_result",
          "data": {
            "text/plain": [
              "[2.5, -3.5, 1.0, 5.0, -2.5]"
            ]
          },
          "metadata": {},
          "execution_count": 5
        }
      ]
    },
    {
      "cell_type": "code",
      "source": [
        "bandits.r_stddev"
      ],
      "metadata": {
        "colab": {
          "base_uri": "https://localhost:8080/"
        },
        "id": "kAhm5bKFyUu4",
        "outputId": "2faec1ef-5f59-4a92-d54e-cb6b4d29ef0c"
      },
      "execution_count": null,
      "outputs": [
        {
          "output_type": "execute_result",
          "data": {
            "text/plain": [
              "[0.33, 1.0, 0.66, 1.98, 1.65]"
            ]
          },
          "metadata": {},
          "execution_count": 6
        }
      ]
    },
    {
      "cell_type": "code",
      "source": [
        "bandits.n"
      ],
      "metadata": {
        "colab": {
          "base_uri": "https://localhost:8080/"
        },
        "id": "7ptrk0yXygbP",
        "outputId": "2d89bf17-3252-42aa-b872-ba078648b686"
      },
      "execution_count": null,
      "outputs": [
        {
          "output_type": "execute_result",
          "data": {
            "text/plain": [
              "5"
            ]
          },
          "metadata": {},
          "execution_count": 7
        }
      ]
    },
    {
      "cell_type": "code",
      "source": [
        "def argmax(reward):\n",
        "    max_reward = reward[0]\n",
        "    ties = [0]\n",
        "\n",
        "    for idx, i in enumerate(reward[1:]):\n",
        "        if i > max_reward:\n",
        "            max_reward = i\n",
        "            ties = [idx+1]\n",
        "        if i == max_reward:\n",
        "            ties.append(idx+1)\n",
        "    \n",
        "    if len(ties) > 1:\n",
        "        index_of_max = np.random.choice(ties)\n",
        "    else:\n",
        "        index_of_max = ties[0]\n",
        "    \n",
        "    return index_of_max\n"
      ],
      "metadata": {
        "id": "gW-cmbVn2Cyj"
      },
      "execution_count": null,
      "outputs": []
    },
    {
      "cell_type": "code",
      "source": [
        "cnts = [0]*5\n",
        "rewards = [0, 0, 0, 0, 0]\n",
        "for i in range(1000):\n",
        "    cnts[argmax(rewards)] += 1\n",
        "cnts"
      ],
      "metadata": {
        "colab": {
          "base_uri": "https://localhost:8080/"
        },
        "id": "iWKoSXFm24b8",
        "outputId": "c4f166e8-b3d3-473f-df51-1d4b3bf685de"
      },
      "execution_count": null,
      "outputs": [
        {
          "output_type": "execute_result",
          "data": {
            "text/plain": [
              "[201, 192, 212, 189, 206]"
            ]
          },
          "metadata": {},
          "execution_count": 9
        }
      ]
    },
    {
      "cell_type": "markdown",
      "source": [
        "## Epsilon greedy"
      ],
      "metadata": {
        "id": "371wopHUypxy"
      }
    },
    {
      "cell_type": "code",
      "source": [
        "def epsilon_greedy(rewards, epsilon):\n",
        "    if np.random.rand() < epsilon:\n",
        "        return np.random.choice(5)\n",
        "    else:\n",
        "        return argmax(rewards)"
      ],
      "metadata": {
        "id": "KPxk0PypyisO"
      },
      "execution_count": null,
      "outputs": []
    },
    {
      "cell_type": "code",
      "source": [
        "np.array([1,1,1,1]) + [1.2,2,3,4]"
      ],
      "metadata": {
        "colab": {
          "base_uri": "https://localhost:8080/"
        },
        "id": "mr-CtOAirU5i",
        "outputId": "df1e0641-f1f7-4924-b5ad-d4955fa87787"
      },
      "execution_count": null,
      "outputs": [
        {
          "output_type": "execute_result",
          "data": {
            "text/plain": [
              "array([2.2, 3. , 4. , 5. ])"
            ]
          },
          "metadata": {},
          "execution_count": 24
        }
      ]
    },
    {
      "cell_type": "code",
      "source": [
        ""
      ],
      "metadata": {
        "id": "vuY8R6rytUEv"
      },
      "execution_count": null,
      "outputs": []
    },
    {
      "cell_type": "code",
      "source": [
        "from tqdm import tqdm\n",
        "\n",
        "actual_average_reward = np.array([0.0, 0.0, 0.0, 0.0, 0.0, 0.0])\n",
        "\n",
        "\n",
        "for i in tqdm(range(100)):\n",
        "    epsilons = [1/128, 1/64, 1/32, 1/16, 1/8, 1/4]\n",
        "    avg_reward = []\n",
        "\n",
        "    for e in epsilons:  \n",
        "        rewards = np.zeros(5)\n",
        "        actions = np.zeros(5)\n",
        "        for i in range(1000):\n",
        "            action = epsilon_greedy(rewards, e)\n",
        "            rewards[action] += bandits.pull(action)\n",
        "            actions[action] += 1\n",
        "            rewards[action] /= actions[action]\n",
        "        # rewards = rewards/1000\n",
        "        # print(np.sum(rewards))\n",
        "\n",
        "        avg_reward.append(np.sum(rewards)/len(rewards))\n",
        "        # print(avg_reward)\n",
        "    actual_average_reward += avg_reward\n",
        "actual_average_reward /= 100"
      ],
      "metadata": {
        "id": "6I2p9stg1Em5",
        "colab": {
          "base_uri": "https://localhost:8080/"
        },
        "outputId": "e8730203-46ca-48eb-8e48-7b976e74a4f9"
      },
      "execution_count": null,
      "outputs": [
        {
          "output_type": "stream",
          "name": "stderr",
          "text": [
            "100%|██████████| 100/100 [00:08<00:00, 11.31it/s]\n"
          ]
        }
      ]
    },
    {
      "cell_type": "markdown",
      "source": [
        "## Plotting"
      ],
      "metadata": {
        "id": "KqXUP_sPz0_J"
      }
    },
    {
      "cell_type": "code",
      "source": [
        "import matplotlib.pyplot as plt\n",
        "# plt.scatter(epsilons ,avg_reward)\n",
        "plt.plot(epsilons, actual_average_reward)\n",
        "plt.xticks(epsilons)\n",
        "plt.show()\n",
        "avg_reward"
      ],
      "metadata": {
        "colab": {
          "base_uri": "https://localhost:8080/",
          "height": 372
        },
        "id": "0H3DqozX4xll",
        "outputId": "2a3794ac-ea55-4e4f-d710-19be8510842b"
      },
      "execution_count": null,
      "outputs": [
        {
          "output_type": "display_data",
          "data": {
            "image/png": "[encoded data removed]",
            "text/plain": [
              "<Figure size 432x288 with 1 Axes>"
            ]
          },
          "metadata": {
            "needs_background": "light"
          }
        },
        {
          "output_type": "execute_result",
          "data": {
            "text/plain": [
              "[0.20177094525372605,\n",
              " 0.990694302606937,\n",
              " 0.9564305665688322,\n",
              " 0.202246064031926,\n",
              " 0.1996880189218282,\n",
              " 0.7704684879550702]"
            ]
          },
          "metadata": {},
          "execution_count": 33
        }
      ]
    },
    {
      "cell_type": "markdown",
      "source": [
        "# Value Iterations"
      ],
      "metadata": {
        "id": "AF9VjwrsVcSF"
      }
    },
    {
      "cell_type": "markdown",
      "source": [
        "## Initialization"
      ],
      "metadata": {
        "id": "wPajkKeYS4b2"
      }
    },
    {
      "cell_type": "code",
      "source": [
        "states = [0, 1, 2] # Hostel, Canteen, Academic Building\n",
        "rewards = [-1, +1, +3]\n",
        "actions = [0, 1] # attend, eat\n",
        "\n",
        "gamma = 0.9\n",
        "\n",
        "\n",
        "data = [\n",
        "        \n",
        "        # Hostel\n",
        "        [\n",
        "         #attend\n",
        "         [\n",
        "          [0.5, 0, -1], # prob, next state, reward\n",
        "          [0.5, 2, +3]\n",
        "         ],\n",
        "        \n",
        "         #eat\n",
        "         [\n",
        "          [1, 1, +1]\n",
        "         ]\n",
        "        ],\n",
        "        \n",
        "        # Canteen\n",
        "        [\n",
        "         #attend\n",
        "         [\n",
        "          [0.3, 0, -1],\n",
        "          [0.6, 2, +3],\n",
        "          [0.1, 1, +1]\n",
        "         ],\n",
        "         \n",
        "         #eat\n",
        "         [\n",
        "          [1,1,+1]\n",
        "         ]\n",
        "        ],\n",
        "        \n",
        "        # Academic Building\n",
        "        [\n",
        "         #attend\n",
        "         [\n",
        "          [0.3, 1, +1],\n",
        "          [0.7, 2, +3]\n",
        "         ],\n",
        "         #eat\n",
        "         [\n",
        "          [0.8, 1, +1],\n",
        "          [0.2, 2, +3]\n",
        "         ]\n",
        "        ]\n",
        "]\n",
        "\n"
      ],
      "metadata": {
        "id": "RL0s4Srh4x68"
      },
      "execution_count": 159,
      "outputs": []
    },
    {
      "cell_type": "code",
      "source": [
        "theta = 0.000001\n",
        "\n",
        "v = [0, 0, 0] # H, C, AB\n",
        "\n",
        "j = 0\n",
        "while True:\n",
        "    j+=1\n",
        "    delta = 0\n",
        "\n",
        "    for i in range(len(states)):\n",
        "        action = [0, 0]\n",
        "\n",
        "        for a in actions:\n",
        "            # print('op')\n",
        "            for prob, next_state, reward in data[i][a]:\n",
        "                # print(prob, next_state, reward)\n",
        "                action[a] += prob * (reward + gamma * v[next_state])\n",
        "                # print(\"pol\",a,action[a])\n",
        "        \n",
        "        best_action_value = max(action)\n",
        "\n",
        "        delta = max(delta, abs(best_action_value - v[i]))\n",
        "        v[i] = best_action_value\n",
        "\n",
        "        # print(delta)\n",
        "        # if (i+2)%3 == 0:\n",
        "            # print(v)\n",
        "    if delta < theta:\n",
        "        print(f'Value converged at iteration {j}')\n",
        "        break\n",
        "v"
      ],
      "metadata": {
        "colab": {
          "base_uri": "https://localhost:8080/"
        },
        "id": "-H97D4ZfS3Pm",
        "outputId": "ae485f98-c477-4804-d80d-30b8e8ecd668"
      },
      "execution_count": 167,
      "outputs": [
        {
          "output_type": "stream",
          "name": "stdout",
          "text": [
            "Value converged at iteration 107\n"
          ]
        },
        {
          "output_type": "execute_result",
          "data": {
            "text/plain": [
              "[18.951372028251477, 19.807446613546325, 20.940567645865922]"
            ]
          },
          "metadata": {},
          "execution_count": 167
        }
      ]
    },
    {
      "cell_type": "code",
      "source": [
        "policy = [-1, -1, -1]\n",
        "for s in range(len(states)):\n",
        "    action = [0, 0]\n",
        "    for a in actions:\n",
        "        for prob, next_state, reward in data[s][a]:\n",
        "            action[a] += prob * (reward + gamma * v[next_state])\n",
        "\n",
        "    best_action = argmax(action)\n",
        "    \n",
        "    # Always take the best action\n",
        "    policy[s] = best_action\n",
        "policy"
      ],
      "metadata": {
        "colab": {
          "base_uri": "https://localhost:8080/"
        },
        "id": "x9m7yyEc0xz4",
        "outputId": "b9ff5d7f-c7c8-4124-fc91-85538ac038bd"
      },
      "execution_count": 168,
      "outputs": [
        {
          "output_type": "execute_result",
          "data": {
            "text/plain": [
              "[0, 0, 0]"
            ]
          },
          "metadata": {},
          "execution_count": 168
        }
      ]
    },
    {
      "cell_type": "markdown",
      "source": [
        "Proposed policy is to attend on all states."
      ],
      "metadata": {
        "id": "cJqz8WNFSuC3"
      }
    },
    {
      "cell_type": "markdown",
      "source": [
        "# Policy Iteration"
      ],
      "metadata": {
        "id": "QB--KAhGSxth"
      }
    },
    {
      "cell_type": "code",
      "source": [
        "v = [0, 0, 0] # all states have expected return 0????????????????????????????\n",
        "policy = [1, 1, 1] # eat in all\n",
        "\n",
        "\n"
      ],
      "metadata": {
        "id": "bg9BUrJQ1971"
      },
      "execution_count": null,
      "outputs": []
    }
  ]
}